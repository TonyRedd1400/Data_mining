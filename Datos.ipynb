{
 "cells": [
  {
   "cell_type": "markdown",
   "metadata": {},
   "source": [
    "<font color= \"teal\" face=”Arial” size=\"9\n",
    "\">\n",
    "    <p> Pandas y Jupiter\n",
    "    </p>\n",
    "</font>"
   ]
  },
  {
   "cell_type": "markdown",
   "metadata": {},
   "source": [
    "<font color= \"teal\" face=”Arial” size=\"5\">\n",
    "    <p>\n",
    "    Parte 1: Carga y Exploracion de Datos \n",
    "    </p>\n",
    "</font>\n",
    "<font color= \"teal\" face=”Arial” size=\"4\">\n",
    "    <p>1.1 Carga y Exploracion de Datos \n",
    "    </p>\n",
    "</font>"
   ]
  },
  {
   "cell_type": "code",
   "execution_count": 12,
   "metadata": {},
   "outputs": [
    {
     "data": {
      "application/vnd.microsoft.datawrangler.viewer.v0+json": {
       "columns": [
        {
         "name": "index",
         "rawType": "int64",
         "type": "integer"
        },
        {
         "name": "Unnamed: 0",
         "rawType": "int64",
         "type": "integer"
        },
        {
         "name": "time",
         "rawType": "object",
         "type": "string"
        },
        {
         "name": "carrera",
         "rawType": "object",
         "type": "string"
        },
        {
         "name": "acepta",
         "rawType": "object",
         "type": "string"
        },
        {
         "name": "positivo",
         "rawType": "object",
         "type": "string"
        },
        {
         "name": "negativo",
         "rawType": "object",
         "type": "string"
        },
        {
         "name": "edad",
         "rawType": "int64",
         "type": "integer"
        },
        {
         "name": "sexo",
         "rawType": "object",
         "type": "string"
        },
        {
         "name": "trabajo",
         "rawType": "object",
         "type": "string"
        }
       ],
       "conversionMethod": "pd.DataFrame",
       "ref": "ea272c7a-a394-4e26-bc6c-3b67941ffb71",
       "rows": [
        [
         "0",
         "0",
         "2020-11-08",
         "Ingeniería de Sistemas",
         "Si",
         "Horario flexible.",
         "Contacto Personal Docente-Estudiantil.",
         "20",
         "Hombre",
         "Eventual"
        ],
        [
         "1",
         "1",
         "2020-11-08",
         "Psicología",
         "Si",
         "Acceso desde cualquier lugar.",
         "Contacto Personal Docente-Estudiantil.",
         "26",
         "Hombre",
         "Eventual"
        ],
        [
         "2",
         "2",
         "2020-11-08",
         "Ingeniería de Sistemas",
         "Si",
         "Horario flexible.",
         "Falta de recursos de calidad(plataformas, docentes).",
         "20",
         "Mujer",
         "Sí"
        ],
        [
         "3",
         "3",
         "2020-11-08",
         "Ingeniería de Sistemas",
         "Si",
         "Horario flexible.",
         "Conexión a internet.",
         "18",
         "Mujer",
         "No"
        ],
        [
         "4",
         "4",
         "2020-11-08",
         "Ingeniería de Sistemas",
         "Si",
         "Acceso desde cualquier lugar.",
         "Contacto Personal Docente-Estudiantil.",
         "39",
         "Hombre",
         "Sí"
        ],
        [
         "5",
         "5",
         "2020-11-08",
         "Ciencias de la Educación",
         "Si",
         "Acceso desde cualquier lugar.",
         "Conexión a internet.",
         "25",
         "Mujer",
         "Sí"
        ],
        [
         "6",
         "6",
         "2020-11-08",
         "Ingeniería de Sistemas",
         "Si",
         "Acceso desde cualquier lugar.",
         "Falta de recursos de calidad(plataformas, docentes).",
         "18",
         "Hombre",
         "Eventual"
        ],
        [
         "7",
         "7",
         "2020-11-08",
         "Ingeniería de Sistemas",
         "Si",
         "Horario flexible.",
         "Contacto Personal Docente-Estudiantil.",
         "20",
         "Hombre",
         "Sí"
        ],
        [
         "8",
         "8",
         "2020-11-08",
         "Ingeniería de Sistemas",
         "Si",
         "Horario flexible.",
         "Contacto Personal Docente-Estudiantil.",
         "20",
         "Hombre",
         "Sí"
        ],
        [
         "9",
         "9",
         "2020-11-08",
         "Ingeniería de Sistemas",
         "Si",
         "Horario flexible.",
         "Conexión a internet.",
         "25",
         "Hombre",
         "Sí"
        ],
        [
         "10",
         "10",
         "2020-11-08",
         "Psicología",
         "Si",
         "Horario flexible.",
         "Conexión a internet.",
         "32",
         "Hombre",
         "Eventual"
        ],
        [
         "11",
         "11",
         "2020-11-08",
         "Ingeniería de Sistemas",
         "Si",
         "Horario flexible.",
         "Contacto Personal Docente-Estudiantil.",
         "21",
         "Hombre",
         "Eventual"
        ],
        [
         "12",
         "12",
         "2020-11-08",
         "Ciencias Físicas y Energías Alternativas",
         "Si",
         "Horario flexible.",
         "Conexión a internet.",
         "25",
         "Hombre",
         "Sí"
        ],
        [
         "13",
         "14",
         "2020-11-08",
         "Contaduría Pública",
         "Si",
         "Horario flexible.",
         "Conexión a internet.",
         "22",
         "Mujer",
         "Sí"
        ],
        [
         "14",
         "16",
         "2020-11-08",
         "Ingeniería de Sistemas",
         "Si",
         "Horario flexible.",
         "Conexión a internet.",
         "19",
         "Mujer",
         "Sí"
        ],
        [
         "15",
         "17",
         "2020-11-08",
         "Ciencias de la Educación",
         "No",
         "Acceso desde cualquier lugar.",
         "Conexión a internet.",
         "19",
         "Mujer",
         "No"
        ],
        [
         "16",
         "18",
         "2020-11-08",
         "Administración de Empresas",
         "Si",
         "Horario flexible.",
         "Conexión a internet.",
         "24",
         "Hombre",
         "Eventual"
        ],
        [
         "17",
         "19",
         "2020-11-08",
         "Derecho",
         "Si",
         "Acceso desde cualquier lugar.",
         "Conexión a internet.",
         "28",
         "Mujer",
         "Eventual"
        ],
        [
         "18",
         "20",
         "2020-11-09",
         "Derecho",
         "Si",
         "Acceso desde cualquier lugar.",
         "Conexión a internet.",
         "32",
         "Mujer",
         "Sí"
        ],
        [
         "19",
         "21",
         "2020-11-09",
         "Historia",
         "Si",
         "Horario flexible.",
         "Contacto Personal Docente-Estudiantil.",
         "20",
         "Hombre",
         "Eventual"
        ],
        [
         "20",
         "22",
         "2020-11-09",
         "Trabajo Social",
         "Si",
         "Horario flexible.",
         "Contacto Personal Docente-Estudiantil.",
         "30",
         "Mujer",
         "Sí"
        ],
        [
         "21",
         "23",
         "2020-11-09",
         "Artes Plásticas",
         "Si",
         "Horario flexible.",
         "Conexión a internet.",
         "20",
         "Hombre",
         "Eventual"
        ],
        [
         "22",
         "24",
         "2020-11-09",
         "Lingüística e Idiomas",
         "Si",
         "Acceso desde cualquier lugar.",
         "Contacto Personal Docente-Estudiantil.",
         "35",
         "Hombre",
         "Sí"
        ],
        [
         "23",
         "25",
         "2020-11-09",
         "Derecho",
         "Si",
         "Acceso desde cualquier lugar.",
         "Contacto Personal Docente-Estudiantil.",
         "34",
         "Mujer",
         "Sí"
        ],
        [
         "24",
         "26",
         "2020-11-09",
         "Derecho",
         "Si",
         "Acceso desde cualquier lugar.",
         "Contacto Personal Docente-Estudiantil.",
         "34",
         "Mujer",
         "Sí"
        ],
        [
         "25",
         "27",
         "2020-11-09",
         "Ciencias de la Educación",
         "Si",
         "Horario flexible.",
         "Contacto Personal Docente-Estudiantil.",
         "46",
         "Hombre",
         "Sí"
        ],
        [
         "26",
         "29",
         "2020-11-09",
         "Administración de Empresas",
         "Si",
         "Horario flexible.",
         "Contacto Personal Docente-Estudiantil.",
         "29",
         "Hombre",
         "Sí"
        ],
        [
         "27",
         "30",
         "2020-11-09",
         "Contaduría Pública",
         "Si",
         "Horario flexible.",
         "Conexión a internet.",
         "36",
         "Hombre",
         "Sí"
        ],
        [
         "28",
         "31",
         "2020-11-09",
         "Lingüística e Idiomas",
         "Si",
         "Autonomía.",
         "Conexión a internet.",
         "30",
         "Hombre",
         "Sí"
        ],
        [
         "29",
         "32",
         "2020-11-09",
         "Derecho",
         "Si",
         "Horario flexible.",
         "Conexión a internet.",
         "33",
         "Mujer",
         "Sí"
        ],
        [
         "30",
         "33",
         "2020-11-09",
         "Economía",
         "Si",
         "Horario flexible.",
         "Conexión a internet.",
         "24",
         "Mujer",
         "Eventual"
        ],
        [
         "31",
         "34",
         "2020-11-09",
         "Economía",
         "Si",
         "Horario flexible.",
         "Contacto Personal Docente-Estudiantil.",
         "24",
         "Mujer",
         "Sí"
        ],
        [
         "32",
         "36",
         "2020-11-09",
         "Derecho",
         "No",
         "Autonomía.",
         "Contacto Personal Docente-Estudiantil.",
         "25",
         "Hombre",
         "No"
        ],
        [
         "33",
         "38",
         "2020-11-09",
         "Ingeniería de Sistemas",
         "Si",
         "Horario flexible.",
         "Contacto Personal Docente-Estudiantil.",
         "45",
         "Hombre",
         "Sí"
        ],
        [
         "34",
         "39",
         "2020-11-09",
         "Otra",
         "Si",
         "Acceso desde cualquier lugar.",
         "Contacto Personal Docente-Estudiantil.",
         "23",
         "Mujer",
         "Sí"
        ],
        [
         "35",
         "41",
         "2020-11-09",
         "Otra",
         "No",
         "Horario flexible.",
         "Falta de recursos de calidad(plataformas, docentes).",
         "19",
         "Hombre",
         "Eventual"
        ],
        [
         "36",
         "42",
         "2020-11-09",
         "Otra",
         "Si",
         "Autonomía.",
         "Conexión a internet.",
         "30",
         "Hombre",
         "Eventual"
        ],
        [
         "37",
         "43",
         "2020-11-09",
         "Ingeniería de Sistemas",
         "Si",
         "Acceso desde cualquier lugar.",
         "Conexión a internet.",
         "39",
         "Hombre",
         "Sí"
        ],
        [
         "38",
         "44",
         "2020-11-09",
         "Ingeniería de Sistemas",
         "Si",
         "Acceso desde cualquier lugar.",
         "Conexión a internet.",
         "22",
         "Hombre",
         "Eventual"
        ],
        [
         "39",
         "46",
         "2020-11-09",
         "Gestión Turística y Hotelera",
         "Si",
         "Horario flexible.",
         "Contacto Personal Docente-Estudiantil.",
         "29",
         "Hombre",
         "Sí"
        ],
        [
         "40",
         "47",
         "2020-11-09",
         "Psicología",
         "Si",
         "Acceso desde cualquier lugar.",
         "Falta de recursos de calidad(plataformas, docentes).",
         "30",
         "Mujer",
         "Sí"
        ],
        [
         "41",
         "48",
         "2020-11-09",
         "Ingeniería de Sistemas",
         "Si",
         "Acceso desde cualquier lugar.",
         "Contacto Personal Docente-Estudiantil.",
         "33",
         "Hombre",
         "Eventual"
        ],
        [
         "42",
         "49",
         "2020-11-09",
         "Ingeniería de Sistemas",
         "Si",
         "Horario flexible.",
         "Contacto Personal Docente-Estudiantil.",
         "21",
         "Hombre",
         "Sí"
        ],
        [
         "43",
         "50",
         "2020-11-09",
         "Ciencias Físicas y Energías Alternativas",
         "Si",
         "Acceso desde cualquier lugar.",
         "Contacto Personal Docente-Estudiantil.",
         "33",
         "Hombre",
         "Sí"
        ],
        [
         "44",
         "51",
         "2020-11-09",
         "Ingeniería de Sistemas",
         "Si",
         "Acceso desde cualquier lugar.",
         "Conexión a internet.",
         "20",
         "Mujer",
         "No"
        ],
        [
         "45",
         "52",
         "2020-11-09",
         "Ingeniería de Sistemas",
         "Si",
         "Horario flexible.",
         "Contacto Personal Docente-Estudiantil.",
         "19",
         "Hombre",
         "Eventual"
        ],
        [
         "46",
         "54",
         "2020-11-09",
         "Ingeniería de Sistemas",
         "Si",
         "Acceso desde cualquier lugar.",
         "Contacto Personal Docente-Estudiantil.",
         "26",
         "Hombre",
         "Sí"
        ],
        [
         "47",
         "55",
         "2020-11-09",
         "Ingeniería de Sistemas",
         "Si",
         "Acceso desde cualquier lugar.",
         "Contacto Personal Docente-Estudiantil.",
         "21",
         "Hombre",
         "Eventual"
        ],
        [
         "48",
         "56",
         "2020-11-09",
         "Ingeniería de Sistemas",
         "Si",
         "Horario flexible.",
         "Contacto Personal Docente-Estudiantil.",
         "33",
         "Hombre",
         "Sí"
        ],
        [
         "49",
         "57",
         "2020-11-09",
         "Ingeniería de Sistemas",
         "Si",
         "Horario flexible.",
         "Falta de recursos de calidad(plataformas, docentes).",
         "35",
         "Hombre",
         "Sí"
        ]
       ],
       "shape": {
        "columns": 9,
        "rows": 222
       }
      },
      "text/html": [
       "<div>\n",
       "<style scoped>\n",
       "    .dataframe tbody tr th:only-of-type {\n",
       "        vertical-align: middle;\n",
       "    }\n",
       "\n",
       "    .dataframe tbody tr th {\n",
       "        vertical-align: top;\n",
       "    }\n",
       "\n",
       "    .dataframe thead th {\n",
       "        text-align: right;\n",
       "    }\n",
       "</style>\n",
       "<table border=\"1\" class=\"dataframe\">\n",
       "  <thead>\n",
       "    <tr style=\"text-align: right;\">\n",
       "      <th></th>\n",
       "      <th>Unnamed: 0</th>\n",
       "      <th>time</th>\n",
       "      <th>carrera</th>\n",
       "      <th>acepta</th>\n",
       "      <th>positivo</th>\n",
       "      <th>negativo</th>\n",
       "      <th>edad</th>\n",
       "      <th>sexo</th>\n",
       "      <th>trabajo</th>\n",
       "    </tr>\n",
       "  </thead>\n",
       "  <tbody>\n",
       "    <tr>\n",
       "      <th>0</th>\n",
       "      <td>0</td>\n",
       "      <td>2020-11-08</td>\n",
       "      <td>Ingeniería de Sistemas</td>\n",
       "      <td>Si</td>\n",
       "      <td>Horario flexible.</td>\n",
       "      <td>Contacto Personal Docente-Estudiantil.</td>\n",
       "      <td>20</td>\n",
       "      <td>Hombre</td>\n",
       "      <td>Eventual</td>\n",
       "    </tr>\n",
       "    <tr>\n",
       "      <th>1</th>\n",
       "      <td>1</td>\n",
       "      <td>2020-11-08</td>\n",
       "      <td>Psicología</td>\n",
       "      <td>Si</td>\n",
       "      <td>Acceso desde cualquier lugar.</td>\n",
       "      <td>Contacto Personal Docente-Estudiantil.</td>\n",
       "      <td>26</td>\n",
       "      <td>Hombre</td>\n",
       "      <td>Eventual</td>\n",
       "    </tr>\n",
       "    <tr>\n",
       "      <th>2</th>\n",
       "      <td>2</td>\n",
       "      <td>2020-11-08</td>\n",
       "      <td>Ingeniería de Sistemas</td>\n",
       "      <td>Si</td>\n",
       "      <td>Horario flexible.</td>\n",
       "      <td>Falta de recursos de calidad(plataformas, doce...</td>\n",
       "      <td>20</td>\n",
       "      <td>Mujer</td>\n",
       "      <td>Sí</td>\n",
       "    </tr>\n",
       "    <tr>\n",
       "      <th>3</th>\n",
       "      <td>3</td>\n",
       "      <td>2020-11-08</td>\n",
       "      <td>Ingeniería de Sistemas</td>\n",
       "      <td>Si</td>\n",
       "      <td>Horario flexible.</td>\n",
       "      <td>Conexión a internet.</td>\n",
       "      <td>18</td>\n",
       "      <td>Mujer</td>\n",
       "      <td>No</td>\n",
       "    </tr>\n",
       "    <tr>\n",
       "      <th>4</th>\n",
       "      <td>4</td>\n",
       "      <td>2020-11-08</td>\n",
       "      <td>Ingeniería de Sistemas</td>\n",
       "      <td>Si</td>\n",
       "      <td>Acceso desde cualquier lugar.</td>\n",
       "      <td>Contacto Personal Docente-Estudiantil.</td>\n",
       "      <td>39</td>\n",
       "      <td>Hombre</td>\n",
       "      <td>Sí</td>\n",
       "    </tr>\n",
       "    <tr>\n",
       "      <th>...</th>\n",
       "      <td>...</td>\n",
       "      <td>...</td>\n",
       "      <td>...</td>\n",
       "      <td>...</td>\n",
       "      <td>...</td>\n",
       "      <td>...</td>\n",
       "      <td>...</td>\n",
       "      <td>...</td>\n",
       "      <td>...</td>\n",
       "    </tr>\n",
       "    <tr>\n",
       "      <th>217</th>\n",
       "      <td>230</td>\n",
       "      <td>2020-12-10</td>\n",
       "      <td>Gestión Turística y Hotelera</td>\n",
       "      <td>Si</td>\n",
       "      <td>Horario flexible.</td>\n",
       "      <td>Conexión a internet.</td>\n",
       "      <td>19</td>\n",
       "      <td>Mujer</td>\n",
       "      <td>Sí</td>\n",
       "    </tr>\n",
       "    <tr>\n",
       "      <th>218</th>\n",
       "      <td>231</td>\n",
       "      <td>2020-12-11</td>\n",
       "      <td>Ingeniería de Sistemas</td>\n",
       "      <td>No</td>\n",
       "      <td>Acceso desde cualquier lugar.</td>\n",
       "      <td>Falta de recursos de calidad(plataformas, doce...</td>\n",
       "      <td>23</td>\n",
       "      <td>Mujer</td>\n",
       "      <td>No</td>\n",
       "    </tr>\n",
       "    <tr>\n",
       "      <th>219</th>\n",
       "      <td>232</td>\n",
       "      <td>2020-12-11</td>\n",
       "      <td>Gestión Turística y Hotelera</td>\n",
       "      <td>No</td>\n",
       "      <td>Horario flexible.</td>\n",
       "      <td>Falta de recursos de calidad(plataformas, doce...</td>\n",
       "      <td>25</td>\n",
       "      <td>Hombre</td>\n",
       "      <td>Sí</td>\n",
       "    </tr>\n",
       "    <tr>\n",
       "      <th>220</th>\n",
       "      <td>233</td>\n",
       "      <td>2020-12-11</td>\n",
       "      <td>Ingeniería Agronómica</td>\n",
       "      <td>Si</td>\n",
       "      <td>Acceso desde cualquier lugar.</td>\n",
       "      <td>Contacto Personal Docente-Estudiantil.</td>\n",
       "      <td>20</td>\n",
       "      <td>Mujer</td>\n",
       "      <td>Sí</td>\n",
       "    </tr>\n",
       "    <tr>\n",
       "      <th>221</th>\n",
       "      <td>234</td>\n",
       "      <td>2020-12-12</td>\n",
       "      <td>Comercio Internacional</td>\n",
       "      <td>Si</td>\n",
       "      <td>Horario flexible.</td>\n",
       "      <td>Falta de recursos de calidad(plataformas, doce...</td>\n",
       "      <td>23</td>\n",
       "      <td>Hombre</td>\n",
       "      <td>Sí</td>\n",
       "    </tr>\n",
       "  </tbody>\n",
       "</table>\n",
       "<p>222 rows × 9 columns</p>\n",
       "</div>"
      ],
      "text/plain": [
       "     Unnamed: 0        time                       carrera acepta  \\\n",
       "0             0  2020-11-08        Ingeniería de Sistemas     Si   \n",
       "1             1  2020-11-08                    Psicología     Si   \n",
       "2             2  2020-11-08        Ingeniería de Sistemas     Si   \n",
       "3             3  2020-11-08        Ingeniería de Sistemas     Si   \n",
       "4             4  2020-11-08        Ingeniería de Sistemas     Si   \n",
       "..          ...         ...                           ...    ...   \n",
       "217         230  2020-12-10  Gestión Turística y Hotelera     Si   \n",
       "218         231  2020-12-11        Ingeniería de Sistemas     No   \n",
       "219         232  2020-12-11  Gestión Turística y Hotelera     No   \n",
       "220         233  2020-12-11         Ingeniería Agronómica     Si   \n",
       "221         234  2020-12-12        Comercio Internacional     Si   \n",
       "\n",
       "                          positivo  \\\n",
       "0                Horario flexible.   \n",
       "1    Acceso desde cualquier lugar.   \n",
       "2                Horario flexible.   \n",
       "3                Horario flexible.   \n",
       "4    Acceso desde cualquier lugar.   \n",
       "..                             ...   \n",
       "217              Horario flexible.   \n",
       "218  Acceso desde cualquier lugar.   \n",
       "219              Horario flexible.   \n",
       "220  Acceso desde cualquier lugar.   \n",
       "221              Horario flexible.   \n",
       "\n",
       "                                              negativo  edad    sexo   trabajo  \n",
       "0               Contacto Personal Docente-Estudiantil.    20  Hombre  Eventual  \n",
       "1               Contacto Personal Docente-Estudiantil.    26  Hombre  Eventual  \n",
       "2    Falta de recursos de calidad(plataformas, doce...    20   Mujer        Sí  \n",
       "3                                 Conexión a internet.    18   Mujer        No  \n",
       "4               Contacto Personal Docente-Estudiantil.    39  Hombre        Sí  \n",
       "..                                                 ...   ...     ...       ...  \n",
       "217                               Conexión a internet.    19   Mujer        Sí  \n",
       "218  Falta de recursos de calidad(plataformas, doce...    23   Mujer        No  \n",
       "219  Falta de recursos de calidad(plataformas, doce...    25  Hombre        Sí  \n",
       "220             Contacto Personal Docente-Estudiantil.    20   Mujer        Sí  \n",
       "221  Falta de recursos de calidad(plataformas, doce...    23  Hombre        Sí  \n",
       "\n",
       "[222 rows x 9 columns]"
      ]
     },
     "execution_count": 12,
     "metadata": {},
     "output_type": "execute_result"
    }
   ],
   "source": [
    "import pandas as pd\n",
    "df = pd.read_csv('ModalidadVirtual.csv')\n",
    "df"
   ]
  },
  {
   "cell_type": "markdown",
   "metadata": {},
   "source": [
    "<font color= \"teal\" face=”Arial” size=\"4\">\n",
    "    <p>1.2 Exploración básica: Muestra las primeras 5 filas, las\n",
    "        últimas 5 filas, y un resumen estadístico de los datos.\n",
    "\n",
    "    </p>\n",
    "</font>"
   ]
  },
  {
   "cell_type": "code",
   "execution_count": 13,
   "metadata": {},
   "outputs": [
    {
     "data": {
      "application/vnd.microsoft.datawrangler.viewer.v0+json": {
       "columns": [
        {
         "name": "index",
         "rawType": "int64",
         "type": "integer"
        },
        {
         "name": "Unnamed: 0",
         "rawType": "int64",
         "type": "integer"
        },
        {
         "name": "time",
         "rawType": "object",
         "type": "string"
        },
        {
         "name": "carrera",
         "rawType": "object",
         "type": "string"
        },
        {
         "name": "acepta",
         "rawType": "object",
         "type": "string"
        },
        {
         "name": "positivo",
         "rawType": "object",
         "type": "string"
        },
        {
         "name": "negativo",
         "rawType": "object",
         "type": "string"
        },
        {
         "name": "edad",
         "rawType": "int64",
         "type": "integer"
        },
        {
         "name": "sexo",
         "rawType": "object",
         "type": "string"
        },
        {
         "name": "trabajo",
         "rawType": "object",
         "type": "string"
        }
       ],
       "conversionMethod": "pd.DataFrame",
       "ref": "ae8892d7-0fd6-4414-82fe-1deb10d352ac",
       "rows": [
        [
         "0",
         "0",
         "2020-11-08",
         "Ingeniería de Sistemas",
         "Si",
         "Horario flexible.",
         "Contacto Personal Docente-Estudiantil.",
         "20",
         "Hombre",
         "Eventual"
        ],
        [
         "1",
         "1",
         "2020-11-08",
         "Psicología",
         "Si",
         "Acceso desde cualquier lugar.",
         "Contacto Personal Docente-Estudiantil.",
         "26",
         "Hombre",
         "Eventual"
        ],
        [
         "2",
         "2",
         "2020-11-08",
         "Ingeniería de Sistemas",
         "Si",
         "Horario flexible.",
         "Falta de recursos de calidad(plataformas, docentes).",
         "20",
         "Mujer",
         "Sí"
        ],
        [
         "3",
         "3",
         "2020-11-08",
         "Ingeniería de Sistemas",
         "Si",
         "Horario flexible.",
         "Conexión a internet.",
         "18",
         "Mujer",
         "No"
        ],
        [
         "4",
         "4",
         "2020-11-08",
         "Ingeniería de Sistemas",
         "Si",
         "Acceso desde cualquier lugar.",
         "Contacto Personal Docente-Estudiantil.",
         "39",
         "Hombre",
         "Sí"
        ]
       ],
       "shape": {
        "columns": 9,
        "rows": 5
       }
      },
      "text/html": [
       "<div>\n",
       "<style scoped>\n",
       "    .dataframe tbody tr th:only-of-type {\n",
       "        vertical-align: middle;\n",
       "    }\n",
       "\n",
       "    .dataframe tbody tr th {\n",
       "        vertical-align: top;\n",
       "    }\n",
       "\n",
       "    .dataframe thead th {\n",
       "        text-align: right;\n",
       "    }\n",
       "</style>\n",
       "<table border=\"1\" class=\"dataframe\">\n",
       "  <thead>\n",
       "    <tr style=\"text-align: right;\">\n",
       "      <th></th>\n",
       "      <th>Unnamed: 0</th>\n",
       "      <th>time</th>\n",
       "      <th>carrera</th>\n",
       "      <th>acepta</th>\n",
       "      <th>positivo</th>\n",
       "      <th>negativo</th>\n",
       "      <th>edad</th>\n",
       "      <th>sexo</th>\n",
       "      <th>trabajo</th>\n",
       "    </tr>\n",
       "  </thead>\n",
       "  <tbody>\n",
       "    <tr>\n",
       "      <th>0</th>\n",
       "      <td>0</td>\n",
       "      <td>2020-11-08</td>\n",
       "      <td>Ingeniería de Sistemas</td>\n",
       "      <td>Si</td>\n",
       "      <td>Horario flexible.</td>\n",
       "      <td>Contacto Personal Docente-Estudiantil.</td>\n",
       "      <td>20</td>\n",
       "      <td>Hombre</td>\n",
       "      <td>Eventual</td>\n",
       "    </tr>\n",
       "    <tr>\n",
       "      <th>1</th>\n",
       "      <td>1</td>\n",
       "      <td>2020-11-08</td>\n",
       "      <td>Psicología</td>\n",
       "      <td>Si</td>\n",
       "      <td>Acceso desde cualquier lugar.</td>\n",
       "      <td>Contacto Personal Docente-Estudiantil.</td>\n",
       "      <td>26</td>\n",
       "      <td>Hombre</td>\n",
       "      <td>Eventual</td>\n",
       "    </tr>\n",
       "    <tr>\n",
       "      <th>2</th>\n",
       "      <td>2</td>\n",
       "      <td>2020-11-08</td>\n",
       "      <td>Ingeniería de Sistemas</td>\n",
       "      <td>Si</td>\n",
       "      <td>Horario flexible.</td>\n",
       "      <td>Falta de recursos de calidad(plataformas, doce...</td>\n",
       "      <td>20</td>\n",
       "      <td>Mujer</td>\n",
       "      <td>Sí</td>\n",
       "    </tr>\n",
       "    <tr>\n",
       "      <th>3</th>\n",
       "      <td>3</td>\n",
       "      <td>2020-11-08</td>\n",
       "      <td>Ingeniería de Sistemas</td>\n",
       "      <td>Si</td>\n",
       "      <td>Horario flexible.</td>\n",
       "      <td>Conexión a internet.</td>\n",
       "      <td>18</td>\n",
       "      <td>Mujer</td>\n",
       "      <td>No</td>\n",
       "    </tr>\n",
       "    <tr>\n",
       "      <th>4</th>\n",
       "      <td>4</td>\n",
       "      <td>2020-11-08</td>\n",
       "      <td>Ingeniería de Sistemas</td>\n",
       "      <td>Si</td>\n",
       "      <td>Acceso desde cualquier lugar.</td>\n",
       "      <td>Contacto Personal Docente-Estudiantil.</td>\n",
       "      <td>39</td>\n",
       "      <td>Hombre</td>\n",
       "      <td>Sí</td>\n",
       "    </tr>\n",
       "  </tbody>\n",
       "</table>\n",
       "</div>"
      ],
      "text/plain": [
       "   Unnamed: 0        time                 carrera acepta  \\\n",
       "0           0  2020-11-08  Ingeniería de Sistemas     Si   \n",
       "1           1  2020-11-08              Psicología     Si   \n",
       "2           2  2020-11-08  Ingeniería de Sistemas     Si   \n",
       "3           3  2020-11-08  Ingeniería de Sistemas     Si   \n",
       "4           4  2020-11-08  Ingeniería de Sistemas     Si   \n",
       "\n",
       "                        positivo  \\\n",
       "0              Horario flexible.   \n",
       "1  Acceso desde cualquier lugar.   \n",
       "2              Horario flexible.   \n",
       "3              Horario flexible.   \n",
       "4  Acceso desde cualquier lugar.   \n",
       "\n",
       "                                            negativo  edad    sexo   trabajo  \n",
       "0             Contacto Personal Docente-Estudiantil.    20  Hombre  Eventual  \n",
       "1             Contacto Personal Docente-Estudiantil.    26  Hombre  Eventual  \n",
       "2  Falta de recursos de calidad(plataformas, doce...    20   Mujer        Sí  \n",
       "3                               Conexión a internet.    18   Mujer        No  \n",
       "4             Contacto Personal Docente-Estudiantil.    39  Hombre        Sí  "
      ]
     },
     "execution_count": 13,
     "metadata": {},
     "output_type": "execute_result"
    }
   ],
   "source": [
    "df.head(5)"
   ]
  },
  {
   "cell_type": "code",
   "execution_count": 14,
   "metadata": {},
   "outputs": [
    {
     "data": {
      "application/vnd.microsoft.datawrangler.viewer.v0+json": {
       "columns": [
        {
         "name": "index",
         "rawType": "object",
         "type": "string"
        },
        {
         "name": "Unnamed: 0",
         "rawType": "float64",
         "type": "float"
        },
        {
         "name": "edad",
         "rawType": "float64",
         "type": "float"
        }
       ],
       "conversionMethod": "pd.DataFrame",
       "ref": "6b393b61-c391-4eb5-949d-2ce571d5d196",
       "rows": [
        [
         "count",
         "222.0",
         "222.0"
        ],
        [
         "mean",
         "119.8963963963964",
         "28.166666666666668"
        ],
        [
         "std",
         "67.42452180624966",
         "7.556374353054468"
        ],
        [
         "min",
         "0.0",
         "17.0"
        ],
        [
         "25%",
         "63.25",
         "22.0"
        ],
        [
         "50%",
         "121.5",
         "27.0"
        ],
        [
         "75%",
         "177.75",
         "33.0"
        ],
        [
         "max",
         "234.0",
         "54.0"
        ]
       ],
       "shape": {
        "columns": 2,
        "rows": 8
       }
      },
      "text/html": [
       "<div>\n",
       "<style scoped>\n",
       "    .dataframe tbody tr th:only-of-type {\n",
       "        vertical-align: middle;\n",
       "    }\n",
       "\n",
       "    .dataframe tbody tr th {\n",
       "        vertical-align: top;\n",
       "    }\n",
       "\n",
       "    .dataframe thead th {\n",
       "        text-align: right;\n",
       "    }\n",
       "</style>\n",
       "<table border=\"1\" class=\"dataframe\">\n",
       "  <thead>\n",
       "    <tr style=\"text-align: right;\">\n",
       "      <th></th>\n",
       "      <th>Unnamed: 0</th>\n",
       "      <th>edad</th>\n",
       "    </tr>\n",
       "  </thead>\n",
       "  <tbody>\n",
       "    <tr>\n",
       "      <th>count</th>\n",
       "      <td>222.000000</td>\n",
       "      <td>222.000000</td>\n",
       "    </tr>\n",
       "    <tr>\n",
       "      <th>mean</th>\n",
       "      <td>119.896396</td>\n",
       "      <td>28.166667</td>\n",
       "    </tr>\n",
       "    <tr>\n",
       "      <th>std</th>\n",
       "      <td>67.424522</td>\n",
       "      <td>7.556374</td>\n",
       "    </tr>\n",
       "    <tr>\n",
       "      <th>min</th>\n",
       "      <td>0.000000</td>\n",
       "      <td>17.000000</td>\n",
       "    </tr>\n",
       "    <tr>\n",
       "      <th>25%</th>\n",
       "      <td>63.250000</td>\n",
       "      <td>22.000000</td>\n",
       "    </tr>\n",
       "    <tr>\n",
       "      <th>50%</th>\n",
       "      <td>121.500000</td>\n",
       "      <td>27.000000</td>\n",
       "    </tr>\n",
       "    <tr>\n",
       "      <th>75%</th>\n",
       "      <td>177.750000</td>\n",
       "      <td>33.000000</td>\n",
       "    </tr>\n",
       "    <tr>\n",
       "      <th>max</th>\n",
       "      <td>234.000000</td>\n",
       "      <td>54.000000</td>\n",
       "    </tr>\n",
       "  </tbody>\n",
       "</table>\n",
       "</div>"
      ],
      "text/plain": [
       "       Unnamed: 0        edad\n",
       "count  222.000000  222.000000\n",
       "mean   119.896396   28.166667\n",
       "std     67.424522    7.556374\n",
       "min      0.000000   17.000000\n",
       "25%     63.250000   22.000000\n",
       "50%    121.500000   27.000000\n",
       "75%    177.750000   33.000000\n",
       "max    234.000000   54.000000"
      ]
     },
     "execution_count": 14,
     "metadata": {},
     "output_type": "execute_result"
    }
   ],
   "source": [
    "df.describe()"
   ]
  },
  {
   "cell_type": "markdown",
   "metadata": {},
   "source": [
    "<font color= \"teal\" face=”Arial” size=\"4\">\n",
    "    <p>\n",
    "        1.3. Información del DataFrame: Muestra la información del\n",
    "        DataFrame (tipos de datos, columnas, etc.).\n",
    "    </p>\n",
    "</font>"
   ]
  },
  {
   "cell_type": "code",
   "execution_count": 15,
   "metadata": {},
   "outputs": [
    {
     "name": "stdout",
     "output_type": "stream",
     "text": [
      "<class 'pandas.core.frame.DataFrame'>\n",
      "RangeIndex: 222 entries, 0 to 221\n",
      "Data columns (total 9 columns):\n",
      " #   Column      Non-Null Count  Dtype \n",
      "---  ------      --------------  ----- \n",
      " 0   Unnamed: 0  222 non-null    int64 \n",
      " 1   time        222 non-null    object\n",
      " 2   carrera     222 non-null    object\n",
      " 3   acepta      222 non-null    object\n",
      " 4   positivo    222 non-null    object\n",
      " 5   negativo    222 non-null    object\n",
      " 6   edad        222 non-null    int64 \n",
      " 7   sexo        222 non-null    object\n",
      " 8   trabajo     222 non-null    object\n",
      "dtypes: int64(2), object(7)\n",
      "memory usage: 15.7+ KB\n"
     ]
    }
   ],
   "source": [
    "df.info()"
   ]
  },
  {
   "cell_type": "markdown",
   "metadata": {},
   "source": [
    "<font color= \"teal\" face=”Arial” size=\"5\">\n",
    "    <p>\n",
    "        4. Valores faltantes: Identifica y cuenta los valores\n",
    "        faltantes en cada columna.\n",
    "    </p>\n",
    "</font>"
   ]
  },
  {
   "cell_type": "code",
   "execution_count": 16,
   "metadata": {},
   "outputs": [
    {
     "name": "stdout",
     "output_type": "stream",
     "text": [
      "Unnamed: 0    0\n",
      "time          0\n",
      "carrera       0\n",
      "acepta        0\n",
      "positivo      0\n",
      "negativo      0\n",
      "edad          0\n",
      "sexo          0\n",
      "trabajo       0\n",
      "dtype: int64\n"
     ]
    }
   ],
   "source": [
    "print(df.isnull().sum())"
   ]
  },
  {
   "cell_type": "markdown",
   "metadata": {},
   "source": [
    "<font color= \"teal\" face=”Arial” size=\"7\">\n",
    "    <p>\n",
    "        Parte 2. Limpieza de Datos\n",
    "    </p>\n",
    "</font>\n",
    "\n",
    "<font color= \"teal\" face=”Arial” size=\"5\">\n",
    "    <p>1. Muestra la cantidad de valores nulos y eliminar valores\n",
    "        faltantes\n",
    "    </p>\n",
    "</font>"
   ]
  },
  {
   "cell_type": "code",
   "execution_count": 17,
   "metadata": {},
   "outputs": [
    {
     "data": {
      "text/plain": [
       "Unnamed: 0    0\n",
       "time          0\n",
       "carrera       0\n",
       "acepta        0\n",
       "positivo      0\n",
       "negativo      0\n",
       "edad          0\n",
       "sexo          0\n",
       "trabajo       0\n",
       "dtype: int64"
      ]
     },
     "execution_count": 17,
     "metadata": {},
     "output_type": "execute_result"
    }
   ],
   "source": [
    "df.isnull().sum()\n"
   ]
  },
  {
   "cell_type": "markdown",
   "metadata": {},
   "source": [
    "<font color= \"teal\" face=”Arial” size=\"5\">\n",
    "    <p> \n",
    "        2. Rellenar valores faltantes: Rellena los valores faltantes\n",
    "        con la media de la columna.\n",
    "    </p>\n",
    "</font>"
   ]
  },
  {
   "cell_type": "code",
   "execution_count": 18,
   "metadata": {},
   "outputs": [],
   "source": [
    "df = df.fillna(0)\n"
   ]
  },
  {
   "cell_type": "markdown",
   "metadata": {},
   "source": [
    "<font color= \"teal\" face=”Arial” size=\"5\">\n",
    "    <p> 3. Eliminar columnas innecesarias: Elimina una columna que\n",
    "        no sea relevante para el análisis.\n",
    "    </p>\n",
    "</font>"
   ]
  },
  {
   "cell_type": "code",
   "execution_count": 19,
   "metadata": {},
   "outputs": [],
   "source": [
    "# df = df.drop([\"Coumna Innecesaria\"])"
   ]
  },
  {
   "cell_type": "markdown",
   "metadata": {},
   "source": [
    "<font color= \"teal\" face=”Arial” size=\"7\">\n",
    "    <p>Parte 3 :  Filtrado y Selección de Datos\n",
    "    </p>\n",
    "</font>\n",
    "<font color= \"teal\" face=”Arial” size=\"5\">\n",
    "    <p>3.1 Filtrar con múltiples condiciones: Filtra las filas que\n",
    "cumplan con múltiples condiciones.\n",
    "    </p>\n",
    "</font>"
   ]
  },
  {
   "cell_type": "code",
   "execution_count": 20,
   "metadata": {},
   "outputs": [
    {
     "data": {
      "application/vnd.microsoft.datawrangler.viewer.v0+json": {
       "columns": [
        {
         "name": "index",
         "rawType": "int64",
         "type": "integer"
        },
        {
         "name": "Unnamed: 0",
         "rawType": "int64",
         "type": "integer"
        },
        {
         "name": "time",
         "rawType": "object",
         "type": "string"
        },
        {
         "name": "carrera",
         "rawType": "object",
         "type": "string"
        },
        {
         "name": "acepta",
         "rawType": "object",
         "type": "string"
        },
        {
         "name": "positivo",
         "rawType": "object",
         "type": "string"
        },
        {
         "name": "negativo",
         "rawType": "object",
         "type": "string"
        },
        {
         "name": "edad",
         "rawType": "int64",
         "type": "integer"
        },
        {
         "name": "sexo",
         "rawType": "object",
         "type": "string"
        },
        {
         "name": "trabajo",
         "rawType": "object",
         "type": "string"
        }
       ],
       "conversionMethod": "pd.DataFrame",
       "ref": "8867cce2-e779-4fcd-88f4-3eef300de031",
       "rows": [
        [
         "1",
         "1",
         "2020-11-08",
         "Psicología",
         "Si",
         "Acceso desde cualquier lugar.",
         "Contacto Personal Docente-Estudiantil.",
         "26",
         "Hombre",
         "Eventual"
        ],
        [
         "5",
         "5",
         "2020-11-08",
         "Ciencias de la Educación",
         "Si",
         "Acceso desde cualquier lugar.",
         "Conexión a internet.",
         "25",
         "Mujer",
         "Sí"
        ],
        [
         "9",
         "9",
         "2020-11-08",
         "Ingeniería de Sistemas",
         "Si",
         "Horario flexible.",
         "Conexión a internet.",
         "25",
         "Hombre",
         "Sí"
        ],
        [
         "11",
         "11",
         "2020-11-08",
         "Ingeniería de Sistemas",
         "Si",
         "Horario flexible.",
         "Contacto Personal Docente-Estudiantil.",
         "21",
         "Hombre",
         "Eventual"
        ],
        [
         "12",
         "12",
         "2020-11-08",
         "Ciencias Físicas y Energías Alternativas",
         "Si",
         "Horario flexible.",
         "Conexión a internet.",
         "25",
         "Hombre",
         "Sí"
        ],
        [
         "13",
         "14",
         "2020-11-08",
         "Contaduría Pública",
         "Si",
         "Horario flexible.",
         "Conexión a internet.",
         "22",
         "Mujer",
         "Sí"
        ],
        [
         "16",
         "18",
         "2020-11-08",
         "Administración de Empresas",
         "Si",
         "Horario flexible.",
         "Conexión a internet.",
         "24",
         "Hombre",
         "Eventual"
        ],
        [
         "17",
         "19",
         "2020-11-08",
         "Derecho",
         "Si",
         "Acceso desde cualquier lugar.",
         "Conexión a internet.",
         "28",
         "Mujer",
         "Eventual"
        ],
        [
         "26",
         "29",
         "2020-11-09",
         "Administración de Empresas",
         "Si",
         "Horario flexible.",
         "Contacto Personal Docente-Estudiantil.",
         "29",
         "Hombre",
         "Sí"
        ],
        [
         "30",
         "33",
         "2020-11-09",
         "Economía",
         "Si",
         "Horario flexible.",
         "Conexión a internet.",
         "24",
         "Mujer",
         "Eventual"
        ],
        [
         "31",
         "34",
         "2020-11-09",
         "Economía",
         "Si",
         "Horario flexible.",
         "Contacto Personal Docente-Estudiantil.",
         "24",
         "Mujer",
         "Sí"
        ],
        [
         "32",
         "36",
         "2020-11-09",
         "Derecho",
         "No",
         "Autonomía.",
         "Contacto Personal Docente-Estudiantil.",
         "25",
         "Hombre",
         "No"
        ],
        [
         "34",
         "39",
         "2020-11-09",
         "Otra",
         "Si",
         "Acceso desde cualquier lugar.",
         "Contacto Personal Docente-Estudiantil.",
         "23",
         "Mujer",
         "Sí"
        ],
        [
         "38",
         "44",
         "2020-11-09",
         "Ingeniería de Sistemas",
         "Si",
         "Acceso desde cualquier lugar.",
         "Conexión a internet.",
         "22",
         "Hombre",
         "Eventual"
        ],
        [
         "39",
         "46",
         "2020-11-09",
         "Gestión Turística y Hotelera",
         "Si",
         "Horario flexible.",
         "Contacto Personal Docente-Estudiantil.",
         "29",
         "Hombre",
         "Sí"
        ],
        [
         "42",
         "49",
         "2020-11-09",
         "Ingeniería de Sistemas",
         "Si",
         "Horario flexible.",
         "Contacto Personal Docente-Estudiantil.",
         "21",
         "Hombre",
         "Sí"
        ],
        [
         "46",
         "54",
         "2020-11-09",
         "Ingeniería de Sistemas",
         "Si",
         "Acceso desde cualquier lugar.",
         "Contacto Personal Docente-Estudiantil.",
         "26",
         "Hombre",
         "Sí"
        ],
        [
         "47",
         "55",
         "2020-11-09",
         "Ingeniería de Sistemas",
         "Si",
         "Acceso desde cualquier lugar.",
         "Contacto Personal Docente-Estudiantil.",
         "21",
         "Hombre",
         "Eventual"
        ],
        [
         "50",
         "58",
         "2020-11-09",
         "Ingeniería de Sistemas",
         "Si",
         "Acceso desde cualquier lugar.",
         "Contacto Personal Docente-Estudiantil.",
         "22",
         "Mujer",
         "Sí"
        ],
        [
         "51",
         "59",
         "2020-11-09",
         "Ingeniería de Sistemas",
         "Si",
         "Horario flexible.",
         "Conexión a internet.",
         "27",
         "Hombre",
         "Sí"
        ],
        [
         "54",
         "62",
         "2020-11-09",
         "Ingeniería Agronómica",
         "Si",
         "Horario flexible.",
         "Conexión a internet.",
         "23",
         "Mujer",
         "No"
        ],
        [
         "56",
         "64",
         "2020-11-09",
         "Ingeniería de Sistemas",
         "Si",
         "Autonomía.",
         "Conexión a internet.",
         "26",
         "Hombre",
         "Eventual"
        ],
        [
         "57",
         "65",
         "2020-11-09",
         "Contaduría Pública",
         "Si",
         "Acceso desde cualquier lugar.",
         "Conexión a internet.",
         "25",
         "Mujer",
         "Sí"
        ],
        [
         "58",
         "67",
         "2020-11-09",
         "Derecho",
         "Si",
         "Horario flexible.",
         "Contacto Personal Docente-Estudiantil.",
         "21",
         "Hombre",
         "Sí"
        ],
        [
         "61",
         "70",
         "2020-11-10",
         "Derecho",
         "Si",
         "Horario flexible.",
         "Contacto Personal Docente-Estudiantil.",
         "28",
         "Hombre",
         "Sí"
        ],
        [
         "65",
         "74",
         "2020-11-10",
         "Derecho",
         "Si",
         "Acceso desde cualquier lugar.",
         "Falta de recursos de calidad(plataformas, docentes).",
         "25",
         "Hombre",
         "Sí"
        ],
        [
         "66",
         "76",
         "2020-11-10",
         "Trabajo Social",
         "Si",
         "Autonomía.",
         "Contacto Personal Docente-Estudiantil.",
         "22",
         "Mujer",
         "Sí"
        ],
        [
         "71",
         "81",
         "2020-11-10",
         "Ingeniería de Sistemas",
         "Si",
         "Acceso desde cualquier lugar.",
         "Falta de recursos de calidad(plataformas, docentes).",
         "21",
         "Hombre",
         "No"
        ],
        [
         "72",
         "82",
         "2020-11-10",
         "Derecho",
         "Si",
         "Acceso desde cualquier lugar.",
         "Conexión a internet.",
         "27",
         "Mujer",
         "Sí"
        ],
        [
         "88",
         "99",
         "2020-11-13",
         "Otra",
         "Si",
         "Horario flexible.",
         "Falta de recursos de calidad(plataformas, docentes).",
         "21",
         "Hombre",
         "Sí"
        ],
        [
         "89",
         "100",
         "2020-11-13",
         "Ingeniería de Sistemas",
         "Si",
         "Acceso desde cualquier lugar.",
         "Falta de recursos de calidad(plataformas, docentes).",
         "25",
         "Hombre",
         "Sí"
        ],
        [
         "93",
         "104",
         "2020-11-13",
         "Nutrición y Dietética",
         "Si",
         "Horario flexible.",
         "Contacto Personal Docente-Estudiantil.",
         "28",
         "Hombre",
         "Sí"
        ],
        [
         "94",
         "105",
         "2020-11-13",
         "Otra",
         "Si",
         "Acceso desde cualquier lugar.",
         "Conexión a internet.",
         "29",
         "Mujer",
         "Sí"
        ],
        [
         "95",
         "106",
         "2020-11-14",
         "Administración de Empresas",
         "Si",
         "Acceso desde cualquier lugar.",
         "Falta de recursos de calidad(plataformas, docentes).",
         "29",
         "Hombre",
         "Sí"
        ],
        [
         "99",
         "110",
         "2020-11-14",
         "Otra",
         "Si",
         "Acceso desde cualquier lugar.",
         "Contacto Personal Docente-Estudiantil.",
         "24",
         "Hombre",
         "Sí"
        ],
        [
         "101",
         "112",
         "2020-11-14",
         "Trabajo Social",
         "Si",
         "Acceso desde cualquier lugar.",
         "Conexión a internet.",
         "24",
         "Mujer",
         "Sí"
        ],
        [
         "102",
         "113",
         "2020-11-15",
         "Administración de Empresas",
         "Si",
         "Autonomía.",
         "Conexión a internet.",
         "21",
         "Hombre",
         "Sí"
        ],
        [
         "103",
         "114",
         "2020-11-15",
         "Administración de Empresas",
         "Si",
         "Horario flexible.",
         "Contacto Personal Docente-Estudiantil.",
         "27",
         "Mujer",
         "Sí"
        ],
        [
         "104",
         "115",
         "2020-11-17",
         "Derecho",
         "Si",
         "Autonomía.",
         "Contacto Personal Docente-Estudiantil.",
         "25",
         "Hombre",
         "Eventual"
        ],
        [
         "106",
         "117",
         "2020-11-18",
         "Otra",
         "Si",
         "Acceso desde cualquier lugar.",
         "Contacto Personal Docente-Estudiantil.",
         "25",
         "Mujer",
         "Sí"
        ],
        [
         "113",
         "124",
         "2020-11-19",
         "Otra",
         "Si",
         "Horario flexible.",
         "Contacto Personal Docente-Estudiantil.",
         "21",
         "Hombre",
         "Eventual"
        ],
        [
         "116",
         "127",
         "2020-11-20",
         "Trabajo Social",
         "Si",
         "Acceso desde cualquier lugar.",
         "Conexión a internet.",
         "25",
         "Mujer",
         "Sí"
        ],
        [
         "119",
         "130",
         "2020-11-20",
         "Contaduría Pública",
         "Si",
         "Horario flexible.",
         "Falta de recursos de calidad(plataformas, docentes).",
         "27",
         "Mujer",
         "Eventual"
        ],
        [
         "120",
         "131",
         "2020-11-20",
         "Sociología",
         "Si",
         "Horario flexible.",
         "Contacto Personal Docente-Estudiantil.",
         "28",
         "Hombre",
         "Sí"
        ],
        [
         "121",
         "132",
         "2020-11-20",
         "Ingeniería de Sistemas",
         "No",
         "Horario flexible.",
         "Conexión a internet.",
         "21",
         "Hombre",
         "Sí"
        ],
        [
         "124",
         "135",
         "2020-11-22",
         "Administración de Empresas",
         "Si",
         "Acceso desde cualquier lugar.",
         "Contacto Personal Docente-Estudiantil.",
         "22",
         "Mujer",
         "Sí"
        ],
        [
         "125",
         "136",
         "2020-11-22",
         "Ingeniería de Sistemas",
         "Si",
         "Horario flexible.",
         "Contacto Personal Docente-Estudiantil.",
         "21",
         "Hombre",
         "Sí"
        ],
        [
         "131",
         "142",
         "2020-11-22",
         "Ingeniería de Sistemas",
         "Si",
         "Horario flexible.",
         "Conexión a internet.",
         "24",
         "Hombre",
         "Sí"
        ],
        [
         "132",
         "143",
         "2020-11-22",
         "Otra",
         "Si",
         "Horario flexible.",
         "Falta de recursos de calidad(plataformas, docentes).",
         "23",
         "Hombre",
         "Sí"
        ],
        [
         "133",
         "144",
         "2020-11-22",
         "Ciencias Físicas y Energías Alternativas",
         "Si",
         "Acceso desde cualquier lugar.",
         "Conexión a internet.",
         "26",
         "Hombre",
         "Eventual"
        ]
       ],
       "shape": {
        "columns": 9,
        "rows": 86
       }
      },
      "text/html": [
       "<div>\n",
       "<style scoped>\n",
       "    .dataframe tbody tr th:only-of-type {\n",
       "        vertical-align: middle;\n",
       "    }\n",
       "\n",
       "    .dataframe tbody tr th {\n",
       "        vertical-align: top;\n",
       "    }\n",
       "\n",
       "    .dataframe thead th {\n",
       "        text-align: right;\n",
       "    }\n",
       "</style>\n",
       "<table border=\"1\" class=\"dataframe\">\n",
       "  <thead>\n",
       "    <tr style=\"text-align: right;\">\n",
       "      <th></th>\n",
       "      <th>Unnamed: 0</th>\n",
       "      <th>time</th>\n",
       "      <th>carrera</th>\n",
       "      <th>acepta</th>\n",
       "      <th>positivo</th>\n",
       "      <th>negativo</th>\n",
       "      <th>edad</th>\n",
       "      <th>sexo</th>\n",
       "      <th>trabajo</th>\n",
       "    </tr>\n",
       "  </thead>\n",
       "  <tbody>\n",
       "    <tr>\n",
       "      <th>1</th>\n",
       "      <td>1</td>\n",
       "      <td>2020-11-08</td>\n",
       "      <td>Psicología</td>\n",
       "      <td>Si</td>\n",
       "      <td>Acceso desde cualquier lugar.</td>\n",
       "      <td>Contacto Personal Docente-Estudiantil.</td>\n",
       "      <td>26</td>\n",
       "      <td>Hombre</td>\n",
       "      <td>Eventual</td>\n",
       "    </tr>\n",
       "    <tr>\n",
       "      <th>5</th>\n",
       "      <td>5</td>\n",
       "      <td>2020-11-08</td>\n",
       "      <td>Ciencias de la Educación</td>\n",
       "      <td>Si</td>\n",
       "      <td>Acceso desde cualquier lugar.</td>\n",
       "      <td>Conexión a internet.</td>\n",
       "      <td>25</td>\n",
       "      <td>Mujer</td>\n",
       "      <td>Sí</td>\n",
       "    </tr>\n",
       "    <tr>\n",
       "      <th>9</th>\n",
       "      <td>9</td>\n",
       "      <td>2020-11-08</td>\n",
       "      <td>Ingeniería de Sistemas</td>\n",
       "      <td>Si</td>\n",
       "      <td>Horario flexible.</td>\n",
       "      <td>Conexión a internet.</td>\n",
       "      <td>25</td>\n",
       "      <td>Hombre</td>\n",
       "      <td>Sí</td>\n",
       "    </tr>\n",
       "    <tr>\n",
       "      <th>11</th>\n",
       "      <td>11</td>\n",
       "      <td>2020-11-08</td>\n",
       "      <td>Ingeniería de Sistemas</td>\n",
       "      <td>Si</td>\n",
       "      <td>Horario flexible.</td>\n",
       "      <td>Contacto Personal Docente-Estudiantil.</td>\n",
       "      <td>21</td>\n",
       "      <td>Hombre</td>\n",
       "      <td>Eventual</td>\n",
       "    </tr>\n",
       "    <tr>\n",
       "      <th>12</th>\n",
       "      <td>12</td>\n",
       "      <td>2020-11-08</td>\n",
       "      <td>Ciencias Físicas y Energías Alternativas</td>\n",
       "      <td>Si</td>\n",
       "      <td>Horario flexible.</td>\n",
       "      <td>Conexión a internet.</td>\n",
       "      <td>25</td>\n",
       "      <td>Hombre</td>\n",
       "      <td>Sí</td>\n",
       "    </tr>\n",
       "    <tr>\n",
       "      <th>...</th>\n",
       "      <td>...</td>\n",
       "      <td>...</td>\n",
       "      <td>...</td>\n",
       "      <td>...</td>\n",
       "      <td>...</td>\n",
       "      <td>...</td>\n",
       "      <td>...</td>\n",
       "      <td>...</td>\n",
       "      <td>...</td>\n",
       "    </tr>\n",
       "    <tr>\n",
       "      <th>213</th>\n",
       "      <td>226</td>\n",
       "      <td>2020-12-09</td>\n",
       "      <td>Ciencias de la Educación</td>\n",
       "      <td>Si</td>\n",
       "      <td>Autonomía.</td>\n",
       "      <td>Falta de recursos de calidad(plataformas, doce...</td>\n",
       "      <td>26</td>\n",
       "      <td>Hombre</td>\n",
       "      <td>Eventual</td>\n",
       "    </tr>\n",
       "    <tr>\n",
       "      <th>215</th>\n",
       "      <td>228</td>\n",
       "      <td>2020-12-09</td>\n",
       "      <td>Psicología</td>\n",
       "      <td>Si</td>\n",
       "      <td>Acceso desde cualquier lugar.</td>\n",
       "      <td>Contacto Personal Docente-Estudiantil.</td>\n",
       "      <td>21</td>\n",
       "      <td>Mujer</td>\n",
       "      <td>No</td>\n",
       "    </tr>\n",
       "    <tr>\n",
       "      <th>218</th>\n",
       "      <td>231</td>\n",
       "      <td>2020-12-11</td>\n",
       "      <td>Ingeniería de Sistemas</td>\n",
       "      <td>No</td>\n",
       "      <td>Acceso desde cualquier lugar.</td>\n",
       "      <td>Falta de recursos de calidad(plataformas, doce...</td>\n",
       "      <td>23</td>\n",
       "      <td>Mujer</td>\n",
       "      <td>No</td>\n",
       "    </tr>\n",
       "    <tr>\n",
       "      <th>219</th>\n",
       "      <td>232</td>\n",
       "      <td>2020-12-11</td>\n",
       "      <td>Gestión Turística y Hotelera</td>\n",
       "      <td>No</td>\n",
       "      <td>Horario flexible.</td>\n",
       "      <td>Falta de recursos de calidad(plataformas, doce...</td>\n",
       "      <td>25</td>\n",
       "      <td>Hombre</td>\n",
       "      <td>Sí</td>\n",
       "    </tr>\n",
       "    <tr>\n",
       "      <th>221</th>\n",
       "      <td>234</td>\n",
       "      <td>2020-12-12</td>\n",
       "      <td>Comercio Internacional</td>\n",
       "      <td>Si</td>\n",
       "      <td>Horario flexible.</td>\n",
       "      <td>Falta de recursos de calidad(plataformas, doce...</td>\n",
       "      <td>23</td>\n",
       "      <td>Hombre</td>\n",
       "      <td>Sí</td>\n",
       "    </tr>\n",
       "  </tbody>\n",
       "</table>\n",
       "<p>86 rows × 9 columns</p>\n",
       "</div>"
      ],
      "text/plain": [
       "     Unnamed: 0        time                                   carrera acepta  \\\n",
       "1             1  2020-11-08                                Psicología     Si   \n",
       "5             5  2020-11-08                  Ciencias de la Educación     Si   \n",
       "9             9  2020-11-08                    Ingeniería de Sistemas     Si   \n",
       "11           11  2020-11-08                    Ingeniería de Sistemas     Si   \n",
       "12           12  2020-11-08  Ciencias Físicas y Energías Alternativas     Si   \n",
       "..          ...         ...                                       ...    ...   \n",
       "213         226  2020-12-09                  Ciencias de la Educación     Si   \n",
       "215         228  2020-12-09                                Psicología     Si   \n",
       "218         231  2020-12-11                    Ingeniería de Sistemas     No   \n",
       "219         232  2020-12-11              Gestión Turística y Hotelera     No   \n",
       "221         234  2020-12-12                    Comercio Internacional     Si   \n",
       "\n",
       "                          positivo  \\\n",
       "1    Acceso desde cualquier lugar.   \n",
       "5    Acceso desde cualquier lugar.   \n",
       "9                Horario flexible.   \n",
       "11               Horario flexible.   \n",
       "12               Horario flexible.   \n",
       "..                             ...   \n",
       "213                     Autonomía.   \n",
       "215  Acceso desde cualquier lugar.   \n",
       "218  Acceso desde cualquier lugar.   \n",
       "219              Horario flexible.   \n",
       "221              Horario flexible.   \n",
       "\n",
       "                                              negativo  edad    sexo   trabajo  \n",
       "1               Contacto Personal Docente-Estudiantil.    26  Hombre  Eventual  \n",
       "5                                 Conexión a internet.    25   Mujer        Sí  \n",
       "9                                 Conexión a internet.    25  Hombre        Sí  \n",
       "11              Contacto Personal Docente-Estudiantil.    21  Hombre  Eventual  \n",
       "12                                Conexión a internet.    25  Hombre        Sí  \n",
       "..                                                 ...   ...     ...       ...  \n",
       "213  Falta de recursos de calidad(plataformas, doce...    26  Hombre  Eventual  \n",
       "215             Contacto Personal Docente-Estudiantil.    21   Mujer        No  \n",
       "218  Falta de recursos de calidad(plataformas, doce...    23   Mujer        No  \n",
       "219  Falta de recursos de calidad(plataformas, doce...    25  Hombre        Sí  \n",
       "221  Falta de recursos de calidad(plataformas, doce...    23  Hombre        Sí  \n",
       "\n",
       "[86 rows x 9 columns]"
      ]
     },
     "execution_count": 20,
     "metadata": {},
     "output_type": "execute_result"
    }
   ],
   "source": [
    "df  =df[(df['edad'] > 20 ) & (df['edad'] < 30)]\n",
    "df"
   ]
  },
  {
   "cell_type": "markdown",
   "metadata": {},
   "source": [
    "<font color= \"teal\" face=”Arial” size=\"5\">\n",
    "    <p>3.Seleccionar columnas: Selecciona solo ciertas columnas\n",
    "    para un nuevo DataFrame.\n",
    "    </p>\n",
    "</font>"
   ]
  },
  {
   "cell_type": "code",
   "execution_count": 21,
   "metadata": {},
   "outputs": [
    {
     "data": {
      "application/vnd.microsoft.datawrangler.viewer.v0+json": {
       "columns": [
        {
         "name": "index",
         "rawType": "int64",
         "type": "integer"
        },
        {
         "name": "edad",
         "rawType": "int64",
         "type": "integer"
        },
        {
         "name": "sexo",
         "rawType": "object",
         "type": "string"
        }
       ],
       "conversionMethod": "pd.DataFrame",
       "ref": "d4f7b74d-29cb-4bdc-b39a-3cadf11f3def",
       "rows": [
        [
         "1",
         "26",
         "Hombre"
        ],
        [
         "5",
         "25",
         "Mujer"
        ],
        [
         "9",
         "25",
         "Hombre"
        ],
        [
         "11",
         "21",
         "Hombre"
        ],
        [
         "12",
         "25",
         "Hombre"
        ],
        [
         "13",
         "22",
         "Mujer"
        ],
        [
         "16",
         "24",
         "Hombre"
        ],
        [
         "17",
         "28",
         "Mujer"
        ],
        [
         "26",
         "29",
         "Hombre"
        ],
        [
         "30",
         "24",
         "Mujer"
        ],
        [
         "31",
         "24",
         "Mujer"
        ],
        [
         "32",
         "25",
         "Hombre"
        ],
        [
         "34",
         "23",
         "Mujer"
        ],
        [
         "38",
         "22",
         "Hombre"
        ],
        [
         "39",
         "29",
         "Hombre"
        ],
        [
         "42",
         "21",
         "Hombre"
        ],
        [
         "46",
         "26",
         "Hombre"
        ],
        [
         "47",
         "21",
         "Hombre"
        ],
        [
         "50",
         "22",
         "Mujer"
        ],
        [
         "51",
         "27",
         "Hombre"
        ],
        [
         "54",
         "23",
         "Mujer"
        ],
        [
         "56",
         "26",
         "Hombre"
        ],
        [
         "57",
         "25",
         "Mujer"
        ],
        [
         "58",
         "21",
         "Hombre"
        ],
        [
         "61",
         "28",
         "Hombre"
        ],
        [
         "65",
         "25",
         "Hombre"
        ],
        [
         "66",
         "22",
         "Mujer"
        ],
        [
         "71",
         "21",
         "Hombre"
        ],
        [
         "72",
         "27",
         "Mujer"
        ],
        [
         "88",
         "21",
         "Hombre"
        ],
        [
         "89",
         "25",
         "Hombre"
        ],
        [
         "93",
         "28",
         "Hombre"
        ],
        [
         "94",
         "29",
         "Mujer"
        ],
        [
         "95",
         "29",
         "Hombre"
        ],
        [
         "99",
         "24",
         "Hombre"
        ],
        [
         "101",
         "24",
         "Mujer"
        ],
        [
         "102",
         "21",
         "Hombre"
        ],
        [
         "103",
         "27",
         "Mujer"
        ],
        [
         "104",
         "25",
         "Hombre"
        ],
        [
         "106",
         "25",
         "Mujer"
        ],
        [
         "113",
         "21",
         "Hombre"
        ],
        [
         "116",
         "25",
         "Mujer"
        ],
        [
         "119",
         "27",
         "Mujer"
        ],
        [
         "120",
         "28",
         "Hombre"
        ],
        [
         "121",
         "21",
         "Hombre"
        ],
        [
         "124",
         "22",
         "Mujer"
        ],
        [
         "125",
         "21",
         "Hombre"
        ],
        [
         "131",
         "24",
         "Hombre"
        ],
        [
         "132",
         "23",
         "Hombre"
        ],
        [
         "133",
         "26",
         "Hombre"
        ]
       ],
       "shape": {
        "columns": 2,
        "rows": 86
       }
      },
      "text/html": [
       "<div>\n",
       "<style scoped>\n",
       "    .dataframe tbody tr th:only-of-type {\n",
       "        vertical-align: middle;\n",
       "    }\n",
       "\n",
       "    .dataframe tbody tr th {\n",
       "        vertical-align: top;\n",
       "    }\n",
       "\n",
       "    .dataframe thead th {\n",
       "        text-align: right;\n",
       "    }\n",
       "</style>\n",
       "<table border=\"1\" class=\"dataframe\">\n",
       "  <thead>\n",
       "    <tr style=\"text-align: right;\">\n",
       "      <th></th>\n",
       "      <th>edad</th>\n",
       "      <th>sexo</th>\n",
       "    </tr>\n",
       "  </thead>\n",
       "  <tbody>\n",
       "    <tr>\n",
       "      <th>1</th>\n",
       "      <td>26</td>\n",
       "      <td>Hombre</td>\n",
       "    </tr>\n",
       "    <tr>\n",
       "      <th>5</th>\n",
       "      <td>25</td>\n",
       "      <td>Mujer</td>\n",
       "    </tr>\n",
       "    <tr>\n",
       "      <th>9</th>\n",
       "      <td>25</td>\n",
       "      <td>Hombre</td>\n",
       "    </tr>\n",
       "    <tr>\n",
       "      <th>11</th>\n",
       "      <td>21</td>\n",
       "      <td>Hombre</td>\n",
       "    </tr>\n",
       "    <tr>\n",
       "      <th>12</th>\n",
       "      <td>25</td>\n",
       "      <td>Hombre</td>\n",
       "    </tr>\n",
       "    <tr>\n",
       "      <th>...</th>\n",
       "      <td>...</td>\n",
       "      <td>...</td>\n",
       "    </tr>\n",
       "    <tr>\n",
       "      <th>213</th>\n",
       "      <td>26</td>\n",
       "      <td>Hombre</td>\n",
       "    </tr>\n",
       "    <tr>\n",
       "      <th>215</th>\n",
       "      <td>21</td>\n",
       "      <td>Mujer</td>\n",
       "    </tr>\n",
       "    <tr>\n",
       "      <th>218</th>\n",
       "      <td>23</td>\n",
       "      <td>Mujer</td>\n",
       "    </tr>\n",
       "    <tr>\n",
       "      <th>219</th>\n",
       "      <td>25</td>\n",
       "      <td>Hombre</td>\n",
       "    </tr>\n",
       "    <tr>\n",
       "      <th>221</th>\n",
       "      <td>23</td>\n",
       "      <td>Hombre</td>\n",
       "    </tr>\n",
       "  </tbody>\n",
       "</table>\n",
       "<p>86 rows × 2 columns</p>\n",
       "</div>"
      ],
      "text/plain": [
       "     edad    sexo\n",
       "1      26  Hombre\n",
       "5      25   Mujer\n",
       "9      25  Hombre\n",
       "11     21  Hombre\n",
       "12     25  Hombre\n",
       "..    ...     ...\n",
       "213    26  Hombre\n",
       "215    21   Mujer\n",
       "218    23   Mujer\n",
       "219    25  Hombre\n",
       "221    23  Hombre\n",
       "\n",
       "[86 rows x 2 columns]"
      ]
     },
     "execution_count": 21,
     "metadata": {},
     "output_type": "execute_result"
    }
   ],
   "source": [
    "df = df[['edad','sexo']]\n",
    "df"
   ]
  },
  {
   "cell_type": "markdown",
   "metadata": {},
   "source": [
    "<font color= \"teal\" face=”Arial” size=\"7\">\n",
    "    <p>\n",
    "    Parte 4: Agregación y Agrupación\n",
    "    </p>\n",
    "</font>\n",
    "<font color= \"teal\" face=”Arial” size=\"5\">\n",
    "    <p> \n",
    "        4.1 Agregación: Calcula la suma, media de una columna.\n",
    "    </p>\n"
   ]
  },
  {
   "cell_type": "code",
   "execution_count": 22,
   "metadata": {},
   "outputs": [
    {
     "name": "stdout",
     "output_type": "stream",
     "text": [
      "2107\n",
      "24.5\n",
      "2.4530892887996414\n"
     ]
    }
   ],
   "source": [
    "print(df['edad'].sum())\n",
    "print(df['edad'].mean())\n",
    "print(df['edad'].std())\n"
   ]
  },
  {
   "cell_type": "markdown",
   "metadata": {},
   "source": [
    "<font color= \"teal\" face=”Arial” size=\"5\">\n",
    "    <p> 4.2 Agrupación: Agrupa los datos por una columna y calcula la\n",
    "media de otra columna para cada grupo.\n",
    "    </p>\n",
    "</font>"
   ]
  },
  {
   "cell_type": "code",
   "execution_count": 23,
   "metadata": {},
   "outputs": [
    {
     "name": "stdout",
     "output_type": "stream",
     "text": [
      "             edad\n",
      "sexo             \n",
      "Hombre  24.437500\n",
      "Mujer   24.578947\n"
     ]
    }
   ],
   "source": [
    "print(df.groupby('sexo').mean())"
   ]
  },
  {
   "cell_type": "markdown",
   "metadata": {},
   "source": [
    "<font color= \"teal\" face=”Arial” size=\"5\">\n",
    "    <p>4.3  Pivot Table: Crea una tabla pivote para resumir los datos \n",
    "    </p>\n",
    "</font>"
   ]
  },
  {
   "cell_type": "code",
   "execution_count": 24,
   "metadata": {},
   "outputs": [
    {
     "name": "stdout",
     "output_type": "stream",
     "text": [
      "        edad\n",
      "sexo        \n",
      "Hombre  1173\n",
      "Mujer    934\n"
     ]
    }
   ],
   "source": [
    "print(pd.pivot_table(df, index = 'sexo', values = 'edad', aggfunc='sum'))"
   ]
  },
  {
   "cell_type": "markdown",
   "metadata": {},
   "source": [
    "<font color= \"teal\" face=”Arial” size=\"9\">\n",
    "    <p> Parte 5. Manipulacion \n",
    "    </p>\n",
    "</font>\n",
    "\n",
    "<font color= \"teal\" face=”Arial” size=\"5\">\n",
    "    <p>5.1 Ordernar datos: Ordena el Dataframe por una columna especifica\n",
    "    </p>\n",
    "</font>"
   ]
  },
  {
   "cell_type": "code",
   "execution_count": 25,
   "metadata": {},
   "outputs": [
    {
     "data": {
      "application/vnd.microsoft.datawrangler.viewer.v0+json": {
       "columns": [
        {
         "name": "index",
         "rawType": "int64",
         "type": "integer"
        },
        {
         "name": "edad",
         "rawType": "int64",
         "type": "integer"
        },
        {
         "name": "sexo",
         "rawType": "object",
         "type": "string"
        }
       ],
       "conversionMethod": "pd.DataFrame",
       "ref": "a714a672-6469-4f63-a527-d2beecf3ccd3",
       "rows": [
        [
         "121",
         "21",
         "Hombre"
        ],
        [
         "196",
         "21",
         "Hombre"
        ],
        [
         "47",
         "21",
         "Hombre"
        ],
        [
         "58",
         "21",
         "Hombre"
        ],
        [
         "102",
         "21",
         "Hombre"
        ],
        [
         "42",
         "21",
         "Hombre"
        ],
        [
         "71",
         "21",
         "Hombre"
        ],
        [
         "215",
         "21",
         "Mujer"
        ],
        [
         "159",
         "21",
         "Hombre"
        ],
        [
         "11",
         "21",
         "Hombre"
        ],
        [
         "125",
         "21",
         "Hombre"
        ],
        [
         "113",
         "21",
         "Hombre"
        ],
        [
         "88",
         "21",
         "Hombre"
        ],
        [
         "66",
         "22",
         "Mujer"
        ],
        [
         "198",
         "22",
         "Hombre"
        ],
        [
         "50",
         "22",
         "Mujer"
        ],
        [
         "186",
         "22",
         "Hombre"
        ],
        [
         "136",
         "22",
         "Mujer"
        ],
        [
         "173",
         "22",
         "Mujer"
        ],
        [
         "13",
         "22",
         "Mujer"
        ],
        [
         "124",
         "22",
         "Mujer"
        ],
        [
         "38",
         "22",
         "Hombre"
        ],
        [
         "189",
         "23",
         "Mujer"
        ],
        [
         "132",
         "23",
         "Hombre"
        ],
        [
         "192",
         "23",
         "Hombre"
        ],
        [
         "221",
         "23",
         "Hombre"
        ],
        [
         "201",
         "23",
         "Mujer"
        ],
        [
         "54",
         "23",
         "Mujer"
        ],
        [
         "165",
         "23",
         "Mujer"
        ],
        [
         "210",
         "23",
         "Hombre"
        ],
        [
         "218",
         "23",
         "Mujer"
        ],
        [
         "34",
         "23",
         "Mujer"
        ],
        [
         "200",
         "23",
         "Mujer"
        ],
        [
         "16",
         "24",
         "Hombre"
        ],
        [
         "131",
         "24",
         "Hombre"
        ],
        [
         "30",
         "24",
         "Mujer"
        ],
        [
         "101",
         "24",
         "Mujer"
        ],
        [
         "99",
         "24",
         "Hombre"
        ],
        [
         "194",
         "24",
         "Mujer"
        ],
        [
         "174",
         "24",
         "Mujer"
        ],
        [
         "31",
         "24",
         "Mujer"
        ],
        [
         "156",
         "25",
         "Hombre"
        ],
        [
         "184",
         "25",
         "Mujer"
        ],
        [
         "160",
         "25",
         "Hombre"
        ],
        [
         "176",
         "25",
         "Mujer"
        ],
        [
         "89",
         "25",
         "Hombre"
        ],
        [
         "116",
         "25",
         "Mujer"
        ],
        [
         "106",
         "25",
         "Mujer"
        ],
        [
         "104",
         "25",
         "Hombre"
        ],
        [
         "166",
         "25",
         "Mujer"
        ]
       ],
       "shape": {
        "columns": 2,
        "rows": 86
       }
      },
      "text/html": [
       "<div>\n",
       "<style scoped>\n",
       "    .dataframe tbody tr th:only-of-type {\n",
       "        vertical-align: middle;\n",
       "    }\n",
       "\n",
       "    .dataframe tbody tr th {\n",
       "        vertical-align: top;\n",
       "    }\n",
       "\n",
       "    .dataframe thead th {\n",
       "        text-align: right;\n",
       "    }\n",
       "</style>\n",
       "<table border=\"1\" class=\"dataframe\">\n",
       "  <thead>\n",
       "    <tr style=\"text-align: right;\">\n",
       "      <th></th>\n",
       "      <th>edad</th>\n",
       "      <th>sexo</th>\n",
       "    </tr>\n",
       "  </thead>\n",
       "  <tbody>\n",
       "    <tr>\n",
       "      <th>121</th>\n",
       "      <td>21</td>\n",
       "      <td>Hombre</td>\n",
       "    </tr>\n",
       "    <tr>\n",
       "      <th>196</th>\n",
       "      <td>21</td>\n",
       "      <td>Hombre</td>\n",
       "    </tr>\n",
       "    <tr>\n",
       "      <th>47</th>\n",
       "      <td>21</td>\n",
       "      <td>Hombre</td>\n",
       "    </tr>\n",
       "    <tr>\n",
       "      <th>58</th>\n",
       "      <td>21</td>\n",
       "      <td>Hombre</td>\n",
       "    </tr>\n",
       "    <tr>\n",
       "      <th>102</th>\n",
       "      <td>21</td>\n",
       "      <td>Hombre</td>\n",
       "    </tr>\n",
       "    <tr>\n",
       "      <th>...</th>\n",
       "      <td>...</td>\n",
       "      <td>...</td>\n",
       "    </tr>\n",
       "    <tr>\n",
       "      <th>205</th>\n",
       "      <td>29</td>\n",
       "      <td>Hombre</td>\n",
       "    </tr>\n",
       "    <tr>\n",
       "      <th>147</th>\n",
       "      <td>29</td>\n",
       "      <td>Mujer</td>\n",
       "    </tr>\n",
       "    <tr>\n",
       "      <th>39</th>\n",
       "      <td>29</td>\n",
       "      <td>Hombre</td>\n",
       "    </tr>\n",
       "    <tr>\n",
       "      <th>26</th>\n",
       "      <td>29</td>\n",
       "      <td>Hombre</td>\n",
       "    </tr>\n",
       "    <tr>\n",
       "      <th>95</th>\n",
       "      <td>29</td>\n",
       "      <td>Hombre</td>\n",
       "    </tr>\n",
       "  </tbody>\n",
       "</table>\n",
       "<p>86 rows × 2 columns</p>\n",
       "</div>"
      ],
      "text/plain": [
       "     edad    sexo\n",
       "121    21  Hombre\n",
       "196    21  Hombre\n",
       "47     21  Hombre\n",
       "58     21  Hombre\n",
       "102    21  Hombre\n",
       "..    ...     ...\n",
       "205    29  Hombre\n",
       "147    29   Mujer\n",
       "39     29  Hombre\n",
       "26     29  Hombre\n",
       "95     29  Hombre\n",
       "\n",
       "[86 rows x 2 columns]"
      ]
     },
     "execution_count": 25,
     "metadata": {},
     "output_type": "execute_result"
    }
   ],
   "source": [
    "df.sort_values('edad')"
   ]
  },
  {
   "cell_type": "markdown",
   "metadata": {},
   "source": [
    "<font color= \"teal\" face=”Arial” size=\"5\">\n",
    "    <p>Parte 6: Analisis de Datos \n",
    "    </p>\n",
    "</font>\n",
    "\n",
    "<font color= \"teal\" face=”Arial” size=\"5\">\n",
    "    <p> 6.1 Histograma: Crea un histograma para una columna numerica\n",
    "    </p>\n",
    "</font>"
   ]
  },
  {
   "cell_type": "code",
   "execution_count": 31,
   "metadata": {},
   "outputs": [
    {
     "data": {
      "image/png": "[encoded data removed]",
      "text/plain": [
       "<Figure size 640x480 with 1 Axes>"
      ]
     },
     "metadata": {},
     "output_type": "display_data"
    }
   ],
   "source": [
    "import matplotlib.pyplot as plt \n",
    "edades =df['edad']\n",
    "intervalos = range(min(edades), max(edades) + 2) #calculamos los extremos de los intervalos\n",
    "plt.hist(x=df['edad'],bins=intervalos)\n",
    "plt.title('Histograma de edades ')\n",
    "plt.xlabel('Edades')\n",
    "plt.ylabel('Frecuencia')\n",
    "plt.xticks(df['edad'])\n",
    "plt.show() #dibujamos el histograma\n"
   ]
  },
  {
   "cell_type": "markdown",
   "metadata": {},
   "source": [
    "<font color= \"teal\" face=”Arial” size=\"9\">\n",
    "    <p>Parte 7: Guardar resultados \n",
    "    </p>\n",
    "</font>\n",
    "\n",
    "<font color= \"teal\" face=”Arial” size=\"5\">\n",
    "    <p> Guardar un Dataframe modificado en un Nuevo archivo CSV.\n",
    "    </p>\n",
    "</font>"
   ]
  },
  {
   "cell_type": "code",
   "execution_count": 32,
   "metadata": {},
   "outputs": [],
   "source": [
    "df.to_csv('Trabajo_de_Mineria', index = False)"
   ]
  }
 ],
 "metadata": {
  "kernelspec": {
   "display_name": "base",
   "language": "python",
   "name": "python3"
  },
  "language_info": {
   "codemirror_mode": {
    "name": "ipython",
    "version": 3
   },
   "file_extension": ".py",
   "mimetype": "text/x-python",
   "name": "python",
   "nbconvert_exporter": "python",
   "pygments_lexer": "ipython3",
   "version": "3.12.4"
  }
 },
 "nbformat": 4,
 "nbformat_minor": 2
}
