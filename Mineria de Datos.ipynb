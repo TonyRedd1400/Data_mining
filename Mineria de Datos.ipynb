{
 "cells": [
  {
   "cell_type": "code",
   "execution_count": 0,
   "metadata": {
    "application/vnd.databricks.v1+cell": {
     "cellMetadata": {
      "byteLimit": 2048000,
      "rowLimit": 10000
     },
     "inputWidgets": {},
     "nuid": "38f6c1c9-57b8-4ee6-8edb-9396f020dadd",
     "showTitle": false,
     "tableResultSettingsMap": {},
     "title": ""
    }
   },
   "outputs": [
    {
     "output_type": "stream",
     "name": "stdout",
     "output_type": "stream",
     "text": [
      "Suma de los primeros N numeros \n"
     ]
    },
    {
     "output_type": "display_data",
     "data": {
      "text/plain": [
       "Ingrese N:  10"
      ]
     },
     "metadata": {},
     "output_type": "display_data"
    }
   ],
   "source": [
    "print(\"suma de los primeros N numeros\")\n",
    "N=int(input(\"ingrese un numero:\"))\n",
    "suma = 0\n",
    "for i in range(1,N+1):\n",
    "    suma += i\n",
    "print(f\"la suma de los primeros {N} numero es: {suma}\")"
   ]
  },
  {
   "cell_type": "code",
   "execution_count": 0,
   "metadata": {
    "application/vnd.databricks.v1+cell": {
     "cellMetadata": {
      "byteLimit": 2048000,
      "rowLimit": 10000
     },
     "inputWidgets": {},
     "nuid": "575726aa-7ae3-4461-8d21-3dfa9cb9188d",
     "showTitle": false,
     "tableResultSettingsMap": {},
     "title": ""
    }
   },
   "outputs": [
    {
     "output_type": "stream",
     "name": "stdout",
     "output_type": "stream",
     "text": [
      "Facotrial de un numero\n"
     ]
    },
    {
     "output_type": "display_data",
     "data": {
      "text/plain": [
       "Ingrese N:  8"
      ]
     },
     "metadata": {},
     "output_type": "display_data"
    },
    {
     "output_type": "stream",
     "name": "stdout",
     "output_type": "stream",
     "text": [
      "2\n6\n12\n20\n30\n42\n56\nEl factorial de 8 es: 56\n"
     ]
    }
   ],
   "source": [
    "# Suma de los primeros numeros N numeros\n",
    "print(\"Facotrial de un numero\") \n",
    "N = int(input(\"Ingrese N: \"))\n",
    "for i in range(1,N):\n",
    "    ii =i+1\n",
    "    Factorial  = i*ii   \n",
    "    print(Factorial)\n",
    "if N == 0:\n",
    "    Factorial = 1\n",
    "else:\n",
    "    print(f\"El factorial de {N} es: {Factorial}\")\n"
   ]
  },
  {
   "cell_type": "code",
   "execution_count": 0,
   "metadata": {
    "application/vnd.databricks.v1+cell": {
     "cellMetadata": {
      "byteLimit": 2048000,
      "rowLimit": 10000
     },
     "inputWidgets": {},
     "nuid": "0185f224-5c7c-4daa-afc4-aa01af6710b4",
     "showTitle": false,
     "tableResultSettingsMap": {},
     "title": ""
    }
   },
   "outputs": [
    {
     "output_type": "stream",
     "name": "stdout",
     "output_type": "stream",
     "text": [
      "Tabla de multiplicar de un numero\n"
     ]
    },
    {
     "output_type": "display_data",
     "data": {
      "text/plain": [
       "Ingrese N:  9"
      ]
     },
     "metadata": {},
     "output_type": "display_data"
    },
    {
     "output_type": "stream",
     "name": "stdout",
     "output_type": "stream",
     "text": [
      "9 x 1 = 9\n9 x 2 = 18\n9 x 3 = 27\n9 x 4 = 36\n9 x 5 = 45\n9 x 6 = 54\n9 x 7 = 63\n9 x 8 = 72\n"
     ]
    }
   ],
   "source": [
    "# Tabla de multiplicar de un numero\n",
    "print(\"Tabla de multiplicar de un numero\")\n",
    "N = int(input(\"Ingrese N: \"))\n",
    "for i in range(1,N):\n",
    "    print(f\"{N} x {i} = {N*i}\")"
   ]
  },
  {
   "cell_type": "code",
   "execution_count": 0,
   "metadata": {
    "application/vnd.databricks.v1+cell": {
     "cellMetadata": {
      "byteLimit": 2048000,
      "rowLimit": 10000
     },
     "inputWidgets": {},
     "nuid": "c4849ceb-b609-484f-9760-8a4e76ed6916",
     "showTitle": false,
     "tableResultSettingsMap": {},
     "title": ""
    }
   },
   "outputs": [
    {
     "output_type": "stream",
     "name": "stdout",
     "output_type": "stream",
     "text": [
      "Calculadora de calificaciones\n"
     ]
    },
    {
     "output_type": "display_data",
     "data": {
      "text/plain": [
       "Ingrese el numero de calificaciones 2"
      ]
     },
     "metadata": {},
     "output_type": "display_data"
    },
    {
     "output_type": "display_data",
     "data": {
      "text/plain": [
       "Ingrese la calificacion 1: 9"
      ]
     },
     "metadata": {},
     "output_type": "display_data"
    },
    {
     "output_type": "display_data",
     "data": {
      "text/plain": [
       "Ingrese la calificacion 2: 9"
      ]
     },
     "metadata": {},
     "output_type": "display_data"
    },
    {
     "output_type": "stream",
     "name": "stdout",
     "output_type": "stream",
     "text": [
      "El promedio de las calificaciones es:9.0\n"
     ]
    }
   ],
   "source": [
    "# Calculadora de calificaciones \n",
    "print(\"Calculadora de calificaciones\")\n",
    "N = int(input(\"Ingrese el numero de calificaciones\"))\n",
    "Suma = 0 \n",
    "\n",
    "for i in range(1,N+1):\n",
    "    Suma += int(input(f\"Ingrese la calificacion {i}:\")) \n",
    "print(f\"El promedio de las calificaciones es:{Suma/N}\")"
   ]
  },
  {
   "cell_type": "code",
   "execution_count": 0,
   "metadata": {
    "application/vnd.databricks.v1+cell": {
     "cellMetadata": {
      "byteLimit": 2048000,
      "rowLimit": 10000
     },
     "inputWidgets": {},
     "nuid": "e0113a77-e0d9-4ef4-bc57-609d10ea0052",
     "showTitle": false,
     "tableResultSettingsMap": {},
     "title": ""
    }
   },
   "outputs": [
    {
     "output_type": "stream",
     "name": "stdout",
     "output_type": "stream",
     "text": [
      "Serie de Fibonacci\n"
     ]
    },
    {
     "output_type": "display_data",
     "data": {
      "text/plain": [
       "Ingrese N:  20"
      ]
     },
     "metadata": {},
     "output_type": "display_data"
    },
    {
     "output_type": "stream",
     "name": "stdout",
     "output_type": "stream",
     "text": [
      "1\n1\n2\n3\n5\n8\n13\n21\n34\n55\n89\n144\n233\n377\n610\n987\n1597\n2584\n4181\n6765\n"
     ]
    }
   ],
   "source": [
    "#Serie de Fibonacci\n",
    "print(\"Serie de Fibonacci\")\n",
    "N = int(input(\"Ingrese N: \"))\n",
    "a = 0\n",
    "b = 1\n",
    "for i in range(1,N+1):\n",
    "    a, b = b, a + b; print(a) \n"
   ]
  },
  {
   "cell_type": "code",
   "execution_count": 0,
   "metadata": {
    "application/vnd.databricks.v1+cell": {
     "cellMetadata": {
      "byteLimit": 2048000,
      "rowLimit": 10000
     },
     "inputWidgets": {},
     "nuid": "96955f40-024b-451b-a399-797cebdafcb3",
     "showTitle": false,
     "tableResultSettingsMap": {},
     "title": ""
    }
   },
   "outputs": [
    {
     "output_type": "stream",
     "name": "stdout",
     "output_type": "stream",
     "text": [
      "Potencia de un numero\n"
     ]
    },
    {
     "output_type": "display_data",
     "data": {
      "text/plain": [
       "Ingrese el exponente:  3"
      ]
     },
     "metadata": {},
     "output_type": "display_data"
    },
    {
     "output_type": "display_data",
     "data": {
      "text/plain": [
       "Ingrese la base:  3"
      ]
     },
     "metadata": {},
     "output_type": "display_data"
    },
    {
     "output_type": "stream",
     "name": "stdout",
     "output_type": "stream",
     "text": [
      "la potencia del numero 3 a la 1 es :3\n"
     ]
    },
    {
     "output_type": "display_data",
     "data": {
      "text/plain": [
       "Ingrese la base:  2"
      ]
     },
     "metadata": {},
     "output_type": "display_data"
    },
    {
     "output_type": "stream",
     "name": "stdout",
     "output_type": "stream",
     "text": [
      "la potencia del numero 4 a la 2 es :16\n"
     ]
    },
    {
     "output_type": "display_data",
     "data": {
      "text/plain": [
       "Ingrese la base:  2"
      ]
     },
     "metadata": {},
     "output_type": "display_data"
    },
    {
     "output_type": "stream",
     "name": "stdout",
     "output_type": "stream",
     "text": [
      "la potencia del numero 6 a la 3 es :216\nla potencia del numero 6 a la 3 es :216\n"
     ]
    }
   ],
   "source": [
    "# Potencia de un numero\n",
    "print(\"Potencia de un numero\")\n",
    "Exponente = int(input(\"Ingrese el exponente: \"))\n",
    "for i in range(1,Exponente+1):\n",
    "    Base = int(input(\"Ingrese la base: \"))\n",
    "    Base = Base*i\n",
    "    print(f'la potencia del numero {Base} a la {i} es :{Base**i}')\n",
    "print(f'la potencia del numero {Base} a la {Exponente} es :{Base**Exponente}')\n",
    "\n"
   ]
  },
  {
   "cell_type": "code",
   "execution_count": 0,
   "metadata": {
    "application/vnd.databricks.v1+cell": {
     "cellMetadata": {
      "byteLimit": 2048000,
      "rowLimit": 10000
     },
     "inputWidgets": {},
     "nuid": "150b4f44-2a21-43d9-9aaf-e098be62de41",
     "showTitle": false,
     "tableResultSettingsMap": {},
     "title": ""
    }
   },
   "outputs": [
    {
     "output_type": "display_data",
     "data": {
      "text/plain": [
       "Ingrese el valor de A:  4"
      ]
     },
     "metadata": {},
     "output_type": "display_data"
    },
    {
     "output_type": "display_data",
     "data": {
      "text/plain": [
       "Ingrese el valor de B:  2"
      ]
     },
     "metadata": {},
     "output_type": "display_data"
    },
    {
     "output_type": "stream",
     "name": "stdout",
     "output_type": "stream",
     "text": [
      "La suma de los números pares entre 4 y 2 es: 0\n"
     ]
    }
   ],
   "source": [
    "A = int(input(\"Ingrese el valor de A: \"))\n",
    "B = int(input(\"Ingrese el valor de B: \"))\n",
    "suma = 0\n",
    "\n",
    "for i in range(A, B + 1):\n",
    "    # Verificar si el número es par\n",
    "    if i % 2 == 0:\n",
    "        suma += i\n",
    "\n",
    "print(\"La suma de los números pares entre\", A, \"y\", B, \"es:\", suma)\n"
   ]
  }
 ],
 "metadata": {
  "application/vnd.databricks.v1+notebook": {
   "computePreferences": null,
   "dashboards": [],
   "environmentMetadata": {
    "base_environment": "",
    "environment_version": "2"
   },
   "language": "python",
   "notebookMetadata": {
    "pythonIndentUnit": 4
   },
   "notebookName": "Mineria de Datos",
   "widgets": {}
  },
  "language_info": {
   "name": "python"
  }
 },
 "nbformat": 4,
 "nbformat_minor": 0
}