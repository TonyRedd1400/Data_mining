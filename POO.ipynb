{
 "cells": [
  {
   "cell_type": "code",
   "execution_count": null,
   "metadata": {},
   "outputs": [
    {
     "name": "stdout",
     "output_type": "stream",
     "text": [
      "Marca: Mazda, Modelo: 3, Color: plateado, Velocidad: 0 km/h\n",
      "El coche ha acelerado a 88 km/h.\n",
      "El coche ha frenado a 68 km/h.\n",
      "Marca: Mazda, Modelo: 3, Color: plateado, Velocidad: 68 km/h\n"
     ]
    }
   ],
   "source": [
    "class Coche:\n",
    "    def __init__(self, marca: str, modelo: str, color: str):\n",
    "        self.marca = marca\n",
    "        self.modelo = modelo\n",
    "        self.color = color\n",
    "        self.velocidad = 0\n",
    "    \n",
    "    def acelerar(self, velocidad: int):\n",
    "        self.velocidad += velocidad\n",
    "        print(f\"El coche ha acelerado a {self.velocidad} km/h.\")\n",
    "    \n",
    "    def frenar(self, velocidad: int):\n",
    "        self.velocidad -= velocidad\n",
    "        if self.velocidad < 0:\n",
    "            self.velocidad = 0\n",
    "        print(f\"El coche ha frenado a {self.velocidad} km/h.\")\n",
    "    \n",
    "    def mostrar_info(self):\n",
    "        print(f\"Marca: {self.marca}, Modelo: {self.modelo}, Color: {self.color}, Velocidad: {self.velocidad} km/h\")\n",
    "\n",
    "# Ejemplo de uso\n",
    "mi_coche = Coche(\"Nissan\", \"240\", \"NEgro\")\n",
    "mi_coche.acelerar(88)\n",
    "mi_coche.frenar(20)\n",
    "mi_coche.mostrar_info()\n"
   ]
  },
  {
   "cell_type": "code",
   "execution_count": null,
   "metadata": {},
   "outputs": [
    {
     "name": "stdout",
     "output_type": "stream",
     "text": [
      "Saldo actual de Nadia Ramos: 0.0 pesos.\n",
      "Se han depositado 500 pesos. Nuevo saldo: 500.0.\n",
      "Se han retirado 200 pesos. Nuevo saldo: 300.0.\n",
      "Saldo actual de Nadia Ramos: 300.0 pesos.\n"
     ]
    }
   ],
   "source": [
    "#CODIGO CUENTA BANCARIA \n",
    "\n",
    "class CuentaBancaria:\n",
    "    def __init__(self, titular: str):\n",
    "        self.titular = titular\n",
    "        self.saldo = 0.0\n",
    "    \n",
    "    def depositar(self, cantidad: float):\n",
    "        if cantidad > 0:\n",
    "            self.saldo += cantidad\n",
    "            print(f\"Se han depositado {cantidad} pesos. Nuevo saldo: {self.saldo}.\")\n",
    "        else:\n",
    "            print(\"La cantidad a depositar debe ser positiva.\")\n",
    "    \n",
    "    def retirar(self, cantidad: float):\n",
    "        if 0 < cantidad <= self.saldo:\n",
    "            self.saldo -= cantidad\n",
    "            print(f\"Se han retirado {cantidad} pesos. Nuevo saldo: {self.saldo}.\")\n",
    "        else:\n",
    "            print(\"Fondos insuficientes o cantidad no válida.\")\n",
    "    \n",
    "    def mostrar_saldo(self):\n",
    "        print(f\"Saldo actual de {self.titular}: {self.saldo} pesos.\")\n",
    "\n",
    "# Ejemplo de uso\n",
    "cuenta = CuentaBancaria(\"Antonio Compean Zenon\")\n",
    "cuenta.mostrar_saldo()\n",
    "cuenta.depositar(500)\n",
    "cuenta.retirar(200)\n",
    "cuenta.mostrar_saldo()\n"
   ]
  },
  {
   "cell_type": "code",
   "execution_count": null,
   "metadata": {},
   "outputs": [
    {
     "name": "stdout",
     "output_type": "stream",
     "text": [
      "Rectángulo - Ancho: 12.0, Alto: 20.0, Área: 240.0, Perímetro: 64.0\n"
     ]
    }
   ],
   "source": [
    "class Rectangulo:\n",
    "    def __init__(self, ancho: float, alto: float):\n",
    "        self.ancho = ancho\n",
    "        self.alto = alto\n",
    "    \n",
    "    def calcular_area(self) -> float:\n",
    "        return self.ancho * self.alto\n",
    "    \n",
    "    def calcular_perimetro(self) -> float:\n",
    "        return 2 * (self.ancho + self.alto)\n",
    "    \n",
    "    def mostrar_info(self):\n",
    "        area = self.calcular_area()\n",
    "        perimetro = self.calcular_perimetro()\n",
    "        print(f\"Rectángulo - Ancho: {self.ancho}, Alto: {self.alto}, Área: {area}, Perímetro: {perimetro}\")\n",
    "\n",
    "# Ejemplo de uso\n",
    "rectangulo = Rectangulo(10, 20.0)\n",
    "rectangulo.mostrar_info()\n"
   ]
  }
 ],
 "metadata": {
  "kernelspec": {
   "display_name": "Python 3",
   "language": "python",
   "name": "python3"
  },
  "language_info": {
   "codemirror_mode": {
    "name": "ipython",
    "version": 3
   },
   "file_extension": ".py",
   "mimetype": "text/x-python",
   "name": "python",
   "nbconvert_exporter": "python",
   "pygments_lexer": "ipython3",
   "version": "3.12.4"
  }
 },
 "nbformat": 4,
 "nbformat_minor": 2
}
